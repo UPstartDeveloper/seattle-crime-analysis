{
 "cells": [
  {
   "cell_type": "markdown",
   "metadata": {},
   "source": [
    "## Imports for the Analysis"
   ]
  },
  {
   "cell_type": "code",
   "execution_count": 2,
   "metadata": {},
   "outputs": [],
   "source": [
    "import pandas as pd\n",
    "import numpy as np\n",
    "import seaborn as sns\n",
    "import matplotlib.pyplot as plt\n",
    "%matplotlib inline\n",
    "import scipy\n",
    "import stats"
   ]
  },
  {
   "cell_type": "markdown",
   "metadata": {},
   "source": [
    "# Reading in the Data"
   ]
  },
  {
   "cell_type": "code",
   "execution_count": 10,
   "metadata": {},
   "outputs": [],
   "source": [
    "# DataFrame for Crime Data Between 1996-2007\n",
    "df1 = pd.read_csv('seattle_data/seattle-crime-stats-by-1990-census-tract-1996-2007.csv')\n",
    "# DataFrame for Crime Data from 2008-Present\n",
    "df2 = pd.read_csv('seattle_data/seattle-crime-stats-by-police-precinct-2008-present.csv')"
   ]
  },
  {
   "cell_type": "markdown",
   "metadata": {},
   "source": [
    "#### What kinds of information does each set of years tell us?\n",
    "To do this, let's take a look at the top 5 rows of each DataFrame."
   ]
  },
  {
   "cell_type": "code",
   "execution_count": 11,
   "metadata": {},
   "outputs": [
    {
     "data": {
      "text/html": [
       "<div>\n",
       "<style scoped>\n",
       "    .dataframe tbody tr th:only-of-type {\n",
       "        vertical-align: middle;\n",
       "    }\n",
       "\n",
       "    .dataframe tbody tr th {\n",
       "        vertical-align: top;\n",
       "    }\n",
       "\n",
       "    .dataframe thead th {\n",
       "        text-align: right;\n",
       "    }\n",
       "</style>\n",
       "<table border=\"1\" class=\"dataframe\">\n",
       "  <thead>\n",
       "    <tr style=\"text-align: right;\">\n",
       "      <th></th>\n",
       "      <th>Report_Year</th>\n",
       "      <th>Census_Tract_1990</th>\n",
       "      <th>Crime_Type</th>\n",
       "      <th>Report_Year_Total</th>\n",
       "    </tr>\n",
       "  </thead>\n",
       "  <tbody>\n",
       "    <tr>\n",
       "      <th>0</th>\n",
       "      <td>1996</td>\n",
       "      <td>1.0</td>\n",
       "      <td>Aggravated Assault</td>\n",
       "      <td>11</td>\n",
       "    </tr>\n",
       "    <tr>\n",
       "      <th>1</th>\n",
       "      <td>1996</td>\n",
       "      <td>1.0</td>\n",
       "      <td>Homicide</td>\n",
       "      <td>0</td>\n",
       "    </tr>\n",
       "    <tr>\n",
       "      <th>2</th>\n",
       "      <td>1996</td>\n",
       "      <td>1.0</td>\n",
       "      <td>NonResidential Burglary</td>\n",
       "      <td>41</td>\n",
       "    </tr>\n",
       "    <tr>\n",
       "      <th>3</th>\n",
       "      <td>1996</td>\n",
       "      <td>1.0</td>\n",
       "      <td>Property Crimes Total</td>\n",
       "      <td>430</td>\n",
       "    </tr>\n",
       "    <tr>\n",
       "      <th>4</th>\n",
       "      <td>1996</td>\n",
       "      <td>1.0</td>\n",
       "      <td>Rape</td>\n",
       "      <td>2</td>\n",
       "    </tr>\n",
       "  </tbody>\n",
       "</table>\n",
       "</div>"
      ],
      "text/plain": [
       "   Report_Year  Census_Tract_1990               Crime_Type  Report_Year_Total\n",
       "0         1996                1.0       Aggravated Assault                 11\n",
       "1         1996                1.0                 Homicide                  0\n",
       "2         1996                1.0  NonResidential Burglary                 41\n",
       "3         1996                1.0    Property Crimes Total                430\n",
       "4         1996                1.0                     Rape                  2"
      ]
     },
     "execution_count": 11,
     "metadata": {},
     "output_type": "execute_result"
    }
   ],
   "source": [
    "df1.head()"
   ]
  },
  {
   "cell_type": "code",
   "execution_count": 12,
   "metadata": {},
   "outputs": [
    {
     "data": {
      "text/html": [
       "<div>\n",
       "<style scoped>\n",
       "    .dataframe tbody tr th:only-of-type {\n",
       "        vertical-align: middle;\n",
       "    }\n",
       "\n",
       "    .dataframe tbody tr th {\n",
       "        vertical-align: top;\n",
       "    }\n",
       "\n",
       "    .dataframe thead th {\n",
       "        text-align: right;\n",
       "    }\n",
       "</style>\n",
       "<table border=\"1\" class=\"dataframe\">\n",
       "  <thead>\n",
       "    <tr style=\"text-align: right;\">\n",
       "      <th></th>\n",
       "      <th>Police Beat</th>\n",
       "      <th>CRIME_TYPE</th>\n",
       "      <th>CRIME_DESCRIPTION</th>\n",
       "      <th>STAT_VALUE</th>\n",
       "      <th>REPORT_DATE</th>\n",
       "      <th>Sector</th>\n",
       "      <th>Precinct</th>\n",
       "      <th>Row_Value_ID</th>\n",
       "    </tr>\n",
       "  </thead>\n",
       "  <tbody>\n",
       "    <tr>\n",
       "      <th>0</th>\n",
       "      <td>R2</td>\n",
       "      <td>Rape</td>\n",
       "      <td>Rape</td>\n",
       "      <td>1</td>\n",
       "      <td>2014-04-30T00:00:00.000</td>\n",
       "      <td>R</td>\n",
       "      <td>SE</td>\n",
       "      <td>27092</td>\n",
       "    </tr>\n",
       "    <tr>\n",
       "      <th>1</th>\n",
       "      <td>K2</td>\n",
       "      <td>Assault</td>\n",
       "      <td>Assault</td>\n",
       "      <td>5</td>\n",
       "      <td>2014-04-30T00:00:00.000</td>\n",
       "      <td>K</td>\n",
       "      <td>W</td>\n",
       "      <td>26506</td>\n",
       "    </tr>\n",
       "    <tr>\n",
       "      <th>2</th>\n",
       "      <td>M2</td>\n",
       "      <td>Homicide</td>\n",
       "      <td>Homicide</td>\n",
       "      <td>1</td>\n",
       "      <td>2014-04-30T00:00:00.000</td>\n",
       "      <td>M</td>\n",
       "      <td>W</td>\n",
       "      <td>27567</td>\n",
       "    </tr>\n",
       "    <tr>\n",
       "      <th>3</th>\n",
       "      <td>C3</td>\n",
       "      <td>Robbery</td>\n",
       "      <td>Robbery</td>\n",
       "      <td>2</td>\n",
       "      <td>2014-04-30T00:00:00.000</td>\n",
       "      <td>C</td>\n",
       "      <td>E</td>\n",
       "      <td>26225</td>\n",
       "    </tr>\n",
       "    <tr>\n",
       "      <th>4</th>\n",
       "      <td>E2</td>\n",
       "      <td>Motor Vehicle Theft</td>\n",
       "      <td>Vehicle Theft is theft of a car, truck, motorc...</td>\n",
       "      <td>7</td>\n",
       "      <td>2014-04-30T00:00:00.000</td>\n",
       "      <td>E</td>\n",
       "      <td>E</td>\n",
       "      <td>26368</td>\n",
       "    </tr>\n",
       "  </tbody>\n",
       "</table>\n",
       "</div>"
      ],
      "text/plain": [
       "  Police Beat           CRIME_TYPE  \\\n",
       "0          R2                 Rape   \n",
       "1          K2              Assault   \n",
       "2          M2             Homicide   \n",
       "3          C3              Robbery   \n",
       "4          E2  Motor Vehicle Theft   \n",
       "\n",
       "                                   CRIME_DESCRIPTION  STAT_VALUE  \\\n",
       "0                                               Rape           1   \n",
       "1                                            Assault           5   \n",
       "2                                           Homicide           1   \n",
       "3                                            Robbery           2   \n",
       "4  Vehicle Theft is theft of a car, truck, motorc...           7   \n",
       "\n",
       "               REPORT_DATE Sector Precinct  Row_Value_ID  \n",
       "0  2014-04-30T00:00:00.000      R       SE         27092  \n",
       "1  2014-04-30T00:00:00.000      K        W         26506  \n",
       "2  2014-04-30T00:00:00.000      M        W         27567  \n",
       "3  2014-04-30T00:00:00.000      C        E         26225  \n",
       "4  2014-04-30T00:00:00.000      E        E         26368  "
      ]
     },
     "execution_count": 12,
     "metadata": {},
     "output_type": "execute_result"
    }
   ],
   "source": [
    "df2.head()"
   ]
  },
  {
   "cell_type": "markdown",
   "metadata": {},
   "source": [
    "# Purpose of the Analysis\n",
    "\n",
    "The goal of this exploratory data analysis is to understand trends in crime for the City of Seattle over roughly the past 24 years. The outcome of asking and seeking this answers about this data will hopefully help lead us to make suggestions for how urban communities in Seattle and elsewhere can improve."
   ]
  },
  {
   "cell_type": "markdown",
   "metadata": {},
   "source": [
    "## Question 1: How has the amount of crime in Seattle changed over the years 1996-Present?"
   ]
  },
  {
   "cell_type": "code",
   "execution_count": 80,
   "metadata": {},
   "outputs": [
    {
     "data": {
      "text/plain": [
       "{1996: 110776,\n",
       " 1997: 112761,\n",
       " 1998: 105237,\n",
       " 1999: 99099,\n",
       " 2000: 90170,\n",
       " 2001: 91846,\n",
       " 2002: 92631,\n",
       " 2003: 100305,\n",
       " 2004: 93130,\n",
       " 2005: 95108,\n",
       " 2006: 43434,\n",
       " 2007: 37559}"
      ]
     },
     "execution_count": 80,
     "metadata": {},
     "output_type": "execute_result"
    }
   ],
   "source": [
    "def count_annual_crimes(df):\n",
    "    \"\"\"Return a dict of all the years in a DataFrame, with the total number of crimes that occured in that year.\"\"\"\n",
    "    # figure out which df we have, and which years we have data for in the df\n",
    "    if 'Report_Year' in df.columns:\n",
    "        years = df['Report_Year'].unique()\n",
    "    else:\n",
    "        reported_years = pd.Series([int(date[:4]) for date in df['REPORT_DATE']])\n",
    "        years = sorted(reported_years.unique())\n",
    "    # iterate over rows of dataset, and count up the total crimes in each year\n",
    "    year_crimes = dict()\n",
    "    # separate algorithms for one df over the other\n",
    "    \n",
    "    # condition for 1996-2007\n",
    "    if 'Report_Year' in df.columns:\n",
    "        for index, year in enumerate(years):\n",
    "            # grab all the rows with this year, and sum crime numbers\n",
    "            crimes_ls = (df.loc[df['Report_Year'] == year])['Report_Year_Total'].dropna()\n",
    "            # print(crimes_ls)\n",
    "            crimes = sum([int(crime) for crime in crimes_ls])\n",
    "            year_crimes[year] = crimes\n",
    "    # condition for 2008--present\n",
    "    else:\n",
    "        for year in years:\n",
    "            pass\n",
    "    return year_crimes\n",
    "\n",
    "\n",
    "count_annual_crimes(df1)"
   ]
  },
  {
   "cell_type": "markdown",
   "metadata": {},
   "source": [
    "# Final Conclusions"
   ]
  },
  {
   "cell_type": "code",
   "execution_count": null,
   "metadata": {},
   "outputs": [],
   "source": []
  }
 ],
 "metadata": {
  "kernelspec": {
   "display_name": "Python 3",
   "language": "python",
   "name": "python3"
  },
  "language_info": {
   "codemirror_mode": {
    "name": "ipython",
    "version": 3
   },
   "file_extension": ".py",
   "mimetype": "text/x-python",
   "name": "python",
   "nbconvert_exporter": "python",
   "pygments_lexer": "ipython3",
   "version": "3.7.6"
  }
 },
 "nbformat": 4,
 "nbformat_minor": 4
}
