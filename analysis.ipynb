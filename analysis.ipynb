{
 "cells": [
  {
   "cell_type": "markdown",
   "metadata": {},
   "source": [
    "## Imports for the Analysis"
   ]
  },
  {
   "cell_type": "code",
   "execution_count": 3,
   "metadata": {},
   "outputs": [],
   "source": [
    "import pandas as pd\n",
    "import numpy as np\n",
    "import seaborn as sns\n",
    "import matplotlib.pyplot as plt\n",
    "%matplotlib inline\n",
    "import scipy\n",
    "import stats"
   ]
  },
  {
   "cell_type": "markdown",
   "metadata": {},
   "source": [
    "# Reading in the Data"
   ]
  },
  {
   "cell_type": "code",
   "execution_count": 7,
   "metadata": {},
   "outputs": [],
   "source": [
    "# DataFrame for Crime Data Between 1996-2007\n",
    "nineties_df = pd.read_csv('seattle_data/seattle-crime-stats-by-1990-census-tract-1996-2007.csv')\n",
    "# DataFrame for Crime Data from 2008-Present\n",
    "df_08 = pd.read_csv('seattle_data/seattle-crime-stats-by-police-precinct-2008-present.csv')"
   ]
  },
  {
   "cell_type": "markdown",
   "metadata": {},
   "source": [
    "#### What kinds of information does each set of years tell us?\n",
    "To do this, let's take a look at the top 5 rows of each DataFrame."
   ]
  },
  {
   "cell_type": "code",
   "execution_count": 8,
   "metadata": {},
   "outputs": [
    {
     "data": {
      "text/html": [
       "<div>\n",
       "<style scoped>\n",
       "    .dataframe tbody tr th:only-of-type {\n",
       "        vertical-align: middle;\n",
       "    }\n",
       "\n",
       "    .dataframe tbody tr th {\n",
       "        vertical-align: top;\n",
       "    }\n",
       "\n",
       "    .dataframe thead th {\n",
       "        text-align: right;\n",
       "    }\n",
       "</style>\n",
       "<table border=\"1\" class=\"dataframe\">\n",
       "  <thead>\n",
       "    <tr style=\"text-align: right;\">\n",
       "      <th></th>\n",
       "      <th>Report_Year</th>\n",
       "      <th>Census_Tract_1990</th>\n",
       "      <th>Crime_Type</th>\n",
       "      <th>Report_Year_Total</th>\n",
       "    </tr>\n",
       "  </thead>\n",
       "  <tbody>\n",
       "    <tr>\n",
       "      <th>0</th>\n",
       "      <td>1996</td>\n",
       "      <td>1.0</td>\n",
       "      <td>Aggravated Assault</td>\n",
       "      <td>11</td>\n",
       "    </tr>\n",
       "    <tr>\n",
       "      <th>1</th>\n",
       "      <td>1996</td>\n",
       "      <td>1.0</td>\n",
       "      <td>Homicide</td>\n",
       "      <td>0</td>\n",
       "    </tr>\n",
       "    <tr>\n",
       "      <th>2</th>\n",
       "      <td>1996</td>\n",
       "      <td>1.0</td>\n",
       "      <td>NonResidential Burglary</td>\n",
       "      <td>41</td>\n",
       "    </tr>\n",
       "    <tr>\n",
       "      <th>3</th>\n",
       "      <td>1996</td>\n",
       "      <td>1.0</td>\n",
       "      <td>Property Crimes Total</td>\n",
       "      <td>430</td>\n",
       "    </tr>\n",
       "    <tr>\n",
       "      <th>4</th>\n",
       "      <td>1996</td>\n",
       "      <td>1.0</td>\n",
       "      <td>Rape</td>\n",
       "      <td>2</td>\n",
       "    </tr>\n",
       "  </tbody>\n",
       "</table>\n",
       "</div>"
      ],
      "text/plain": [
       "   Report_Year  Census_Tract_1990               Crime_Type  Report_Year_Total\n",
       "0         1996                1.0       Aggravated Assault                 11\n",
       "1         1996                1.0                 Homicide                  0\n",
       "2         1996                1.0  NonResidential Burglary                 41\n",
       "3         1996                1.0    Property Crimes Total                430\n",
       "4         1996                1.0                     Rape                  2"
      ]
     },
     "execution_count": 8,
     "metadata": {},
     "output_type": "execute_result"
    }
   ],
   "source": [
    "nineties_df.head()"
   ]
  },
  {
   "cell_type": "code",
   "execution_count": 9,
   "metadata": {},
   "outputs": [
    {
     "data": {
      "text/html": [
       "<div>\n",
       "<style scoped>\n",
       "    .dataframe tbody tr th:only-of-type {\n",
       "        vertical-align: middle;\n",
       "    }\n",
       "\n",
       "    .dataframe tbody tr th {\n",
       "        vertical-align: top;\n",
       "    }\n",
       "\n",
       "    .dataframe thead th {\n",
       "        text-align: right;\n",
       "    }\n",
       "</style>\n",
       "<table border=\"1\" class=\"dataframe\">\n",
       "  <thead>\n",
       "    <tr style=\"text-align: right;\">\n",
       "      <th></th>\n",
       "      <th>Police Beat</th>\n",
       "      <th>CRIME_TYPE</th>\n",
       "      <th>CRIME_DESCRIPTION</th>\n",
       "      <th>STAT_VALUE</th>\n",
       "      <th>REPORT_DATE</th>\n",
       "      <th>Sector</th>\n",
       "      <th>Precinct</th>\n",
       "      <th>Row_Value_ID</th>\n",
       "    </tr>\n",
       "  </thead>\n",
       "  <tbody>\n",
       "    <tr>\n",
       "      <th>0</th>\n",
       "      <td>R2</td>\n",
       "      <td>Rape</td>\n",
       "      <td>Rape</td>\n",
       "      <td>1</td>\n",
       "      <td>2014-04-30T00:00:00.000</td>\n",
       "      <td>R</td>\n",
       "      <td>SE</td>\n",
       "      <td>27092</td>\n",
       "    </tr>\n",
       "    <tr>\n",
       "      <th>1</th>\n",
       "      <td>K2</td>\n",
       "      <td>Assault</td>\n",
       "      <td>Assault</td>\n",
       "      <td>5</td>\n",
       "      <td>2014-04-30T00:00:00.000</td>\n",
       "      <td>K</td>\n",
       "      <td>W</td>\n",
       "      <td>26506</td>\n",
       "    </tr>\n",
       "    <tr>\n",
       "      <th>2</th>\n",
       "      <td>M2</td>\n",
       "      <td>Homicide</td>\n",
       "      <td>Homicide</td>\n",
       "      <td>1</td>\n",
       "      <td>2014-04-30T00:00:00.000</td>\n",
       "      <td>M</td>\n",
       "      <td>W</td>\n",
       "      <td>27567</td>\n",
       "    </tr>\n",
       "    <tr>\n",
       "      <th>3</th>\n",
       "      <td>C3</td>\n",
       "      <td>Robbery</td>\n",
       "      <td>Robbery</td>\n",
       "      <td>2</td>\n",
       "      <td>2014-04-30T00:00:00.000</td>\n",
       "      <td>C</td>\n",
       "      <td>E</td>\n",
       "      <td>26225</td>\n",
       "    </tr>\n",
       "    <tr>\n",
       "      <th>4</th>\n",
       "      <td>E2</td>\n",
       "      <td>Motor Vehicle Theft</td>\n",
       "      <td>Vehicle Theft is theft of a car, truck, motorc...</td>\n",
       "      <td>7</td>\n",
       "      <td>2014-04-30T00:00:00.000</td>\n",
       "      <td>E</td>\n",
       "      <td>E</td>\n",
       "      <td>26368</td>\n",
       "    </tr>\n",
       "  </tbody>\n",
       "</table>\n",
       "</div>"
      ],
      "text/plain": [
       "  Police Beat           CRIME_TYPE  \\\n",
       "0          R2                 Rape   \n",
       "1          K2              Assault   \n",
       "2          M2             Homicide   \n",
       "3          C3              Robbery   \n",
       "4          E2  Motor Vehicle Theft   \n",
       "\n",
       "                                   CRIME_DESCRIPTION  STAT_VALUE  \\\n",
       "0                                               Rape           1   \n",
       "1                                            Assault           5   \n",
       "2                                           Homicide           1   \n",
       "3                                            Robbery           2   \n",
       "4  Vehicle Theft is theft of a car, truck, motorc...           7   \n",
       "\n",
       "               REPORT_DATE Sector Precinct  Row_Value_ID  \n",
       "0  2014-04-30T00:00:00.000      R       SE         27092  \n",
       "1  2014-04-30T00:00:00.000      K        W         26506  \n",
       "2  2014-04-30T00:00:00.000      M        W         27567  \n",
       "3  2014-04-30T00:00:00.000      C        E         26225  \n",
       "4  2014-04-30T00:00:00.000      E        E         26368  "
      ]
     },
     "execution_count": 9,
     "metadata": {},
     "output_type": "execute_result"
    }
   ],
   "source": [
    "df_08.head()"
   ]
  },
  {
   "cell_type": "code",
   "execution_count": null,
   "metadata": {},
   "outputs": [],
   "source": []
  }
 ],
 "metadata": {
  "kernelspec": {
   "display_name": "Python 3",
   "language": "python",
   "name": "python3"
  },
  "language_info": {
   "codemirror_mode": {
    "name": "ipython",
    "version": 3
   },
   "file_extension": ".py",
   "mimetype": "text/x-python",
   "name": "python",
   "nbconvert_exporter": "python",
   "pygments_lexer": "ipython3",
   "version": "3.7.6"
  }
 },
 "nbformat": 4,
 "nbformat_minor": 4
}
